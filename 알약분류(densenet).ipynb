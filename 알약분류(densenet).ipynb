{
  "nbformat": 4,
  "nbformat_minor": 0,
  "metadata": {
    "colab": {
      "provenance": [],
      "name": "알약분류(densenet).ipynb",
      "machine_shape": "hm",
      "include_colab_link": true
    },
    "kernelspec": {
      "name": "python3",
      "display_name": "Python 3"
    },
    "accelerator": "TPU",
    "gpuClass": "standard"
  },
  "cells": [
    {
      "cell_type": "markdown",
      "metadata": {
        "id": "view-in-github",
        "colab_type": "text"
      },
      "source": [
        "<a href=\"https://colab.research.google.com/github/xlnt415/StudyForBigdata/blob/main/Python/DeepLearning/TensorFlow/%EC%BA%A1%EC%8A%A4%ED%86%A4/%EC%95%8C%EC%95%BD%EB%B6%84%EB%A5%98(densenet).ipynb\" target=\"_parent\"><img src=\"https://colab.research.google.com/assets/colab-badge.svg\" alt=\"Open In Colab\"/></a>"
      ]
    },
    {
      "cell_type": "code",
      "metadata": {
        "id": "iu2mbI2Ha8UW",
        "outputId": "caa33da6-a7aa-4b9f-83a2-424112910559",
        "colab": {
          "base_uri": "https://localhost:8080/"
        }
      },
      "source": [
        "!pip install tqdm"
      ],
      "execution_count": 1,
      "outputs": [
        {
          "output_type": "stream",
          "name": "stdout",
          "text": [
            "Looking in indexes: https://pypi.org/simple, https://us-python.pkg.dev/colab-wheels/public/simple/\n",
            "Requirement already satisfied: tqdm in /usr/local/lib/python3.9/dist-packages (4.65.0)\n"
          ]
        }
      ]
    },
    {
      "cell_type": "code",
      "source": [
        "from PIL import Image\n",
        "\n",
        "Image.MAX_IMAGE_PIXELS = None"
      ],
      "metadata": {
        "id": "oEocHdj6YEU8"
      },
      "execution_count": 2,
      "outputs": []
    },
    {
      "cell_type": "markdown",
      "metadata": {
        "id": "5-tk5DfRjXN3"
      },
      "source": [
        "## Dataset preprocessing"
      ]
    },
    {
      "cell_type": "markdown",
      "metadata": {
        "id": "LpbQm2i9jYrP"
      },
      "source": [
        "### Import project dependencies"
      ]
    },
    {
      "cell_type": "code",
      "metadata": {
        "id": "9fOTP2XZimCM",
        "outputId": "4aff35f9-218f-4dad-e9bb-872289f9d18c",
        "colab": {
          "base_uri": "https://localhost:8080/"
        }
      },
      "source": [
        "import os\n",
        "import zipfile\n",
        "import numpy as np\n",
        "import tensorflow as tf\n",
        "import matplotlib.pyplot as plt\n",
        "from google.colab import drive\n",
        "drive.mount('/content/drive')\n",
        "from tqdm import tqdm_notebook\n",
        "from tensorflow.keras.preprocessing.image import ImageDataGenerator, load_img\n",
        "\n",
        "%matplotlib inline"
      ],
      "execution_count": 3,
      "outputs": [
        {
          "output_type": "stream",
          "name": "stdout",
          "text": [
            "Mounted at /content/drive\n"
          ]
        }
      ]
    },
    {
      "cell_type": "markdown",
      "metadata": {
        "id": "VSDt-MEVjlsA"
      },
      "source": [
        "### Seting up dataset paths"
      ]
    },
    {
      "cell_type": "code",
      "metadata": {
        "id": "glNaVdNmjmfr"
      },
      "source": [
        "dataset_path_new = \"/content/drive/MyDrive/캡스톤 데이터/data\""
      ],
      "execution_count": 4,
      "outputs": []
    },
    {
      "cell_type": "code",
      "metadata": {
        "id": "VhfMF891jt0P"
      },
      "source": [
        "train_dir = os.path.join(dataset_path_new, 'train')\n",
        "validation_dir = os.path.join(dataset_path_new, \"val\")"
      ],
      "execution_count": 5,
      "outputs": []
    },
    {
      "cell_type": "markdown",
      "metadata": {
        "id": "-YLQb_WOmjwP"
      },
      "source": [
        "## Building the model"
      ]
    },
    {
      "cell_type": "markdown",
      "metadata": {
        "id": "PoMFwC51mmNa"
      },
      "source": [
        "### Loading the pre-trained model (MobileNetV2)"
      ]
    },
    {
      "cell_type": "code",
      "metadata": {
        "id": "owkKMJiFmZhj"
      },
      "source": [
        "IMG_SHAPE = (128, 128, 3)"
      ],
      "execution_count": 6,
      "outputs": []
    },
    {
      "cell_type": "code",
      "source": [
        "from tensorflow.keras.applications import DenseNet121"
      ],
      "metadata": {
        "id": "JHEo_yP1fQ7J"
      },
      "execution_count": 7,
      "outputs": []
    },
    {
      "cell_type": "code",
      "metadata": {
        "id": "pEemsnZinInr",
        "outputId": "c5c44649-f61f-4fd6-e556-dd3af14c1343",
        "colab": {
          "base_uri": "https://localhost:8080/"
        }
      },
      "source": [
        "base_model = DenseNet121(input_shape=IMG_SHAPE, include_top=False, weights=\"imagenet\")  #모델 다른 것도 불러오기(cnn추가)"
      ],
      "execution_count": 8,
      "outputs": [
        {
          "output_type": "stream",
          "name": "stdout",
          "text": [
            "Downloading data from https://storage.googleapis.com/tensorflow/keras-applications/densenet/densenet121_weights_tf_dim_ordering_tf_kernels_notop.h5\n",
            "29084464/29084464 [==============================] - 0s 0us/step\n"
          ]
        }
      ]
    },
    {
      "cell_type": "code",
      "metadata": {
        "id": "95RL7HQLoD8z"
      },
      "source": [
        "# base_model.summary()"
      ],
      "execution_count": 9,
      "outputs": []
    },
    {
      "cell_type": "markdown",
      "metadata": {
        "id": "iRDmVCtFofpc"
      },
      "source": [
        "### Freezing the base model"
      ]
    },
    {
      "cell_type": "code",
      "metadata": {
        "id": "kFlhPT4-oMxL"
      },
      "source": [
        "base_model.trainable = False"
      ],
      "execution_count": 10,
      "outputs": []
    },
    {
      "cell_type": "markdown",
      "metadata": {
        "id": "lZTcqkBipEEM"
      },
      "source": [
        "### Defining the custom head for our network"
      ]
    },
    {
      "cell_type": "code",
      "metadata": {
        "id": "7U82_j0oo3wT",
        "outputId": "f65cecf6-3858-47ae-d8a3-dcc4eca0dbaa",
        "colab": {
          "base_uri": "https://localhost:8080/"
        }
      },
      "source": [
        "base_model.output"
      ],
      "execution_count": 11,
      "outputs": [
        {
          "output_type": "execute_result",
          "data": {
            "text/plain": [
              "<KerasTensor: shape=(None, 4, 4, 1024) dtype=float32 (created by layer 'relu')>"
            ]
          },
          "metadata": {},
          "execution_count": 11
        }
      ]
    },
    {
      "cell_type": "code",
      "metadata": {
        "id": "vZlIXTCbpXEM"
      },
      "source": [
        "global_average_layer = tf.keras.layers.GlobalAveragePooling2D()(base_model.output)"
      ],
      "execution_count": 12,
      "outputs": []
    },
    {
      "cell_type": "code",
      "metadata": {
        "id": "al6yHSdEp2zL",
        "outputId": "97ed0e93-f32c-4f69-b38c-1720348c1f47",
        "colab": {
          "base_uri": "https://localhost:8080/"
        }
      },
      "source": [
        "global_average_layer"
      ],
      "execution_count": 13,
      "outputs": [
        {
          "output_type": "execute_result",
          "data": {
            "text/plain": [
              "<KerasTensor: shape=(None, 1024) dtype=float32 (created by layer 'global_average_pooling2d')>"
            ]
          },
          "metadata": {},
          "execution_count": 13
        }
      ]
    },
    {
      "cell_type": "code",
      "metadata": {
        "id": "Q8K2WenOp4Ob"
      },
      "source": [
        "prediction_layer = tf.keras.layers.Dense(units=1, activation='sigmoid')(global_average_layer)\n",
        "# prediction_layer = tf.keras.layers.Dense(units=2, activation='softmax')(global_average_layer)"
      ],
      "execution_count": 14,
      "outputs": []
    },
    {
      "cell_type": "markdown",
      "metadata": {
        "id": "SwzYZTTwqT8l"
      },
      "source": [
        "### Defining the model"
      ]
    },
    {
      "cell_type": "code",
      "metadata": {
        "id": "qUHmyw4CqLTz"
      },
      "source": [
        "model = tf.keras.models.Model(inputs=base_model.input, outputs=prediction_layer)"
      ],
      "execution_count": 15,
      "outputs": []
    },
    {
      "cell_type": "code",
      "metadata": {
        "id": "E-V9XI7_rBTi"
      },
      "source": [
        "# model.summary()"
      ],
      "execution_count": 16,
      "outputs": []
    },
    {
      "cell_type": "markdown",
      "metadata": {
        "id": "qBrj4jkqrVfy"
      },
      "source": [
        "### Compiling the model"
      ]
    },
    {
      "cell_type": "code",
      "metadata": {
        "id": "Qt1ZOPKlsO87",
        "outputId": "e4dd91d1-b9f9-4f3f-b991-00f3c414f91a",
        "colab": {
          "base_uri": "https://localhost:8080/"
        }
      },
      "source": [
        "# model.compile(optimizer=tf.keras.optimizers.RMSprop(learning_rate=0.001), loss=\"categorical_crossentropy\", metrics=[\"accuracy\"])\n",
        "model.compile(optimizer=tf.keras.optimizers.RMSprop(lr=0.001), loss=\"binary_crossentropy\", metrics=[\"accuracy\"])\n",
        " # 느리면 lr 올리기"
      ],
      "execution_count": 17,
      "outputs": [
        {
          "output_type": "stream",
          "name": "stderr",
          "text": [
            "WARNING:absl:`lr` is deprecated in Keras optimizer, please use `learning_rate` or use the legacy optimizer, e.g.,tf.keras.optimizers.legacy.RMSprop.\n"
          ]
        }
      ]
    },
    {
      "cell_type": "markdown",
      "metadata": {
        "id": "YJRlLGaotJ_J"
      },
      "source": [
        "### Creating Data Generators\n",
        "\n",
        "Resizing images\n",
        "\n",
        "    Big pre-trained architecture support only certain input sizes.\n",
        "\n",
        "For example: MobileNet (architecture that we use) supports: (96, 96), (128, 128), (160, 160), (192, 192), (224, 224)."
      ]
    },
    {
      "cell_type": "code",
      "metadata": {
        "id": "7QV5h3-OtC97"
      },
      "source": [
        "data_gen_train = ImageDataGenerator(rescale=1/255.)\n",
        "data_gen_valid = ImageDataGenerator(rescale=1/255.)"
      ],
      "execution_count": 18,
      "outputs": []
    },
    {
      "cell_type": "code",
      "source": [
        "# def preprocess_input(img_path):\n",
        "#     try:\n",
        "#         img = load_img(img_path, target_size=(128, 128))\n",
        "#         # 이미지 전처리 작업 수행\n",
        "#         return img\n",
        "#     except:\n",
        "        \n",
        "\n",
        "\n",
        "# datagen = ImageDataGenerator(\n",
        "#     preprocessing_function=preprocess_input,\n",
        "#     rescale=1/255.\n",
        "# )"
      ],
      "metadata": {
        "id": "LBgv237rzHc7"
      },
      "execution_count": 19,
      "outputs": []
    },
    {
      "cell_type": "code",
      "source": [
        "while True:\n",
        "    train_generator = data_gen_train.flow_from_directory(train_dir, target_size=(128,128),\n",
        "                                                         batch_size=128, class_mode=\"binary\")\n",
        "    \n",
        "    if len(train_generator.filepaths) > 20000:\n",
        "        break\n",
        "     "
      ],
      "metadata": {
        "id": "RbH7RLpRgWH0",
        "outputId": "4e4d0f68-434b-49cc-8b5c-c0286e73abd1",
        "colab": {
          "base_uri": "https://localhost:8080/"
        }
      },
      "execution_count": 20,
      "outputs": [
        {
          "output_type": "stream",
          "name": "stdout",
          "text": [
            "Found 0 images belonging to 2 classes.\n",
            "Found 35536 images belonging to 2 classes.\n"
          ]
        }
      ]
    },
    {
      "cell_type": "code",
      "source": [
        "# valid_generator = datagen.flow_from_directory(validation_dir, target_size=(128,128),\n",
        "#                                                      batch_size= 32, class_mode=\"categorical\")"
      ],
      "metadata": {
        "id": "9csiUNeK7fGX"
      },
      "execution_count": 21,
      "outputs": []
    },
    {
      "cell_type": "code",
      "metadata": {
        "id": "WbJL_jtwvgGk",
        "outputId": "b2582e4c-42b1-4d84-f1b0-e84c0d851311",
        "colab": {
          "base_uri": "https://localhost:8080/"
        }
      },
      "source": [
        "# valid_generator = data_gen_valid.flow_from_directory(validation_dir, target_size=(128,128),\n",
        "#                                                      batch_size= 128, class_mode=\"categorical\") #batch 올려도 될듯\n",
        "valid_generator = data_gen_valid.flow_from_directory(validation_dir, target_size=(128,128),\n",
        "                                                     batch_size= 128, class_mode=\"binary\") #batch 올려도 될듯"
      ],
      "execution_count": 22,
      "outputs": [
        {
          "output_type": "stream",
          "name": "stdout",
          "text": [
            "Found 8574 images belonging to 2 classes.\n"
          ]
        }
      ]
    },
    {
      "cell_type": "markdown",
      "metadata": {
        "id": "eSzbQEcpv4C-"
      },
      "source": [
        "### Training the model"
      ]
    },
    {
      "cell_type": "code",
      "metadata": {
        "id": "O6jUOnNBvuYD",
        "outputId": "600ce8c1-eab0-483b-8906-d7c12919126e",
        "colab": {
          "base_uri": "https://localhost:8080/"
        }
      },
      "source": [
        "# hist = model.fit(train_generator, epochs=5, validation_data=valid_generator,  validation_steps=len(valid_generator), callbacks=[\n",
        "#     ModelCheckpoint(filepath='/content/drive/MyDrive/캡스톤 데이터/save/mobilenet_sample.h5', save_best_only=True, save_weights_only=True, monitor='val_accuracy')\n",
        "# ]) # save_weights_only=True 옵션이 지정되어 있기 때문에 모델의 가중치만 저장되고, 모델의 구조와 설정이 저장되지 않아서 발생하는 오류\n",
        "\n",
        "hist = model.fit(train_generator, epochs=5, validation_data=valid_generator,  validation_steps=len(valid_generator))"
      ],
      "execution_count": 23,
      "outputs": [
        {
          "output_type": "stream",
          "name": "stdout",
          "text": [
            "Epoch 1/5\n",
            "278/278 [==============================] - 5871s 21s/step - loss: 0.0997 - accuracy: 0.9634 - val_loss: 0.0497 - val_accuracy: 0.9834\n",
            "Epoch 2/5\n",
            "278/278 [==============================] - 319s 1s/step - loss: 0.0341 - accuracy: 0.9889 - val_loss: 0.0516 - val_accuracy: 0.9850\n",
            "Epoch 3/5\n",
            "278/278 [==============================] - 319s 1s/step - loss: 0.0268 - accuracy: 0.9913 - val_loss: 0.0489 - val_accuracy: 0.9854\n",
            "Epoch 4/5\n",
            "278/278 [==============================] - 320s 1s/step - loss: 0.0231 - accuracy: 0.9926 - val_loss: 0.0487 - val_accuracy: 0.9858\n",
            "Epoch 5/5\n",
            "278/278 [==============================] - 320s 1s/step - loss: 0.0209 - accuracy: 0.9932 - val_loss: 0.0509 - val_accuracy: 0.9859\n"
          ]
        }
      ]
    },
    {
      "cell_type": "markdown",
      "metadata": {
        "id": "t_Dx30HVxWr2"
      },
      "source": [
        "### Transfer learning model evaluation"
      ]
    },
    {
      "cell_type": "code",
      "source": [
        "loss, accuracy = model.evaluate_generator(train_generator)"
      ],
      "metadata": {
        "id": "glazaRKfbfto",
        "outputId": "552238e1-77b8-460b-c5dc-5c379efd851e",
        "colab": {
          "base_uri": "https://localhost:8080/"
        }
      },
      "execution_count": 24,
      "outputs": [
        {
          "output_type": "stream",
          "name": "stderr",
          "text": [
            "<ipython-input-24-78e6f2a89b6f>:1: UserWarning: `Model.evaluate_generator` is deprecated and will be removed in a future version. Please use `Model.evaluate`, which supports generators.\n",
            "  loss, accuracy = model.evaluate_generator(train_generator)\n"
          ]
        }
      ]
    },
    {
      "cell_type": "code",
      "metadata": {
        "id": "Bsc0GzhCxNrz",
        "outputId": "5c0cdc0e-ca5f-4d44-a389-a51c179866d3",
        "colab": {
          "base_uri": "https://localhost:8080/"
        }
      },
      "source": [
        "valid_loss, valid_accuracy = model.evaluate_generator(valid_generator)"
      ],
      "execution_count": 25,
      "outputs": [
        {
          "output_type": "stream",
          "name": "stderr",
          "text": [
            "<ipython-input-25-a86cc1f7f1e2>:1: UserWarning: `Model.evaluate_generator` is deprecated and will be removed in a future version. Please use `Model.evaluate`, which supports generators.\n",
            "  valid_loss, valid_accuracy = model.evaluate_generator(valid_generator)\n"
          ]
        }
      ]
    },
    {
      "cell_type": "code",
      "metadata": {
        "id": "6XOGP0tExZvv",
        "outputId": "60729ee0-0d52-4cff-cf82-2c4a52eda34f",
        "colab": {
          "base_uri": "https://localhost:8080/"
        }
      },
      "source": [
        "print(\"Accuracy : {}\".format(accuracy))\n",
        "print(\"loss : {}\".format(loss))\n",
        "print(\"vallid_accuracy: {}\".format(valid_accuracy))\n",
        "print(\"valid_loss : {}\".format(valid_loss))"
      ],
      "execution_count": 26,
      "outputs": [
        {
          "output_type": "stream",
          "name": "stdout",
          "text": [
            "Accuracy : 0.9940060973167419\n",
            "loss : 0.018618371337652206\n",
            "vallid_accuracy: 0.9858875870704651\n",
            "valid_loss : 0.05087008327245712\n"
          ]
        }
      ]
    },
    {
      "cell_type": "code",
      "source": [
        "hist.history.keys()\n",
        "\n",
        "plt.figure(figsize = (12, 4))\n",
        "plt.subplot(1, 2, 1)\n",
        "plt.plot(hist.history['loss'], 'b--', label = 'loss')\n",
        "plt.plot(hist.history['val_loss'], 'r:', label = 'val_loss')\n",
        "plt.xlabel('Epochs')\n",
        "plt.grid()\n",
        "plt.legend()\n",
        "\n",
        "plt.subplot(1, 2, 2)\n",
        "plt.plot(hist.history['accuracy'], 'b--', label = 'accuracy')\n",
        "plt.plot(hist.history['val_accuracy'], 'r:', label = 'val_accouracy')\n",
        "plt.xlabel('Epochs')\n",
        "plt.grid()\n",
        "plt.legend()\n",
        "\n",
        "\n",
        "plt.show()\n",
        "\n",
        "plt.savefig('/content/drive/MyDrive/캡스톤 데이터/평가.png')"
      ],
      "metadata": {
        "id": "MGyGzqy-ahWs",
        "outputId": "54d07e57-9ecd-4351-df0b-eb0e5c21fe67",
        "colab": {
          "base_uri": "https://localhost:8080/",
          "height": 406
        }
      },
      "execution_count": 27,
      "outputs": [
        {
          "output_type": "display_data",
          "data": {
            "text/plain": [
              "<Figure size 1200x400 with 2 Axes>"
            ],
            "image/png": "[encoded data removed]"
          },
          "metadata": {}
        },
        {
          "output_type": "display_data",
          "data": {
            "text/plain": [
              "<Figure size 640x480 with 0 Axes>"
            ]
          },
          "metadata": {}
        }
      ]
    },
    {
      "cell_type": "markdown",
      "metadata": {
        "id": "3mmrlX05yhkU"
      },
      "source": [
        "## Save"
      ]
    },
    {
      "cell_type": "markdown",
      "source": [
        "----"
      ],
      "metadata": {
        "id": "O6h29TIs32WI"
      }
    },
    {
      "cell_type": "markdown",
      "metadata": {
        "id": "rutvwJBp6s2x"
      },
      "source": [
        "### Evaluating the fine tuned model"
      ]
    },
    {
      "cell_type": "code",
      "metadata": {
        "id": "FPTyisdx33u3",
        "outputId": "bd3de431-d1a0-4cc2-fe9a-a0cc5dff55f1",
        "colab": {
          "base_uri": "https://localhost:8080/"
        }
      },
      "source": [
        "valid_loss, valid_accuracy = model.evaluate_generator(valid_generator)"
      ],
      "execution_count": 28,
      "outputs": [
        {
          "output_type": "stream",
          "name": "stderr",
          "text": [
            "<ipython-input-28-a86cc1f7f1e2>:1: UserWarning: `Model.evaluate_generator` is deprecated and will be removed in a future version. Please use `Model.evaluate`, which supports generators.\n",
            "  valid_loss, valid_accuracy = model.evaluate_generator(valid_generator)\n"
          ]
        }
      ]
    },
    {
      "cell_type": "code",
      "metadata": {
        "id": "jijEA5n26yQu",
        "outputId": "dcb92550-5d16-4e26-ec17-fb4a72ac5693",
        "colab": {
          "base_uri": "https://localhost:8080/"
        }
      },
      "source": [
        "print(\"Validation accuracy after fine tuning: {}\".format(valid_accuracy))"
      ],
      "execution_count": 29,
      "outputs": [
        {
          "output_type": "stream",
          "name": "stdout",
          "text": [
            "Validation accuracy after fine tuning: 0.9858875870704651\n"
          ]
        }
      ]
    },
    {
      "cell_type": "code",
      "source": [
        "model.save('/content/drive/MyDrive/캡스톤 데이터/save/densenet.h5') #이렇게 저장할 것."
      ],
      "metadata": {
        "id": "A-mF-Xm_qC8P"
      },
      "execution_count": 30,
      "outputs": []
    },
    {
      "cell_type": "code",
      "metadata": {
        "id": "ofPpHFcp7eHU"
      },
      "source": [
        "import tensorflow as tf\n",
        "import matplotlib.pyplot as plt\n",
        "from tensorflow.keras.preprocessing.image import ImageDataGenerator\n",
        "import time"
      ],
      "execution_count": 31,
      "outputs": []
    },
    {
      "cell_type": "code",
      "source": [
        "time.sleep(60)\n",
        "\n",
        "# 모델 불러오기\n",
        "model = tf.keras.models.load_model('/content/drive/MyDrive/캡스톤 데이터/save/densenet.h5')"
      ],
      "metadata": {
        "id": "ilYI8br4myUk"
      },
      "execution_count": 32,
      "outputs": []
    },
    {
      "cell_type": "code",
      "source": [
        "test_data_dir = '/content/drive/MyDrive/캡스톤 데이터/test'"
      ],
      "metadata": {
        "id": "87VgJkSts-vm"
      },
      "execution_count": 33,
      "outputs": []
    },
    {
      "cell_type": "code",
      "source": [
        "# 이미지 데이터 생성기\n",
        "test_data_generator = ImageDataGenerator(rescale=1./255)\n",
        "\n",
        "# 테스트 데이터 불러오기\n",
        "test_generator = test_data_generator.flow_from_directory(\n",
        "    test_data_dir,\n",
        "    target_size=(128, 128),\n",
        "    batch_size=128,\n",
        "    class_mode='binary',\n",
        "    shuffle=False\n",
        ")"
      ],
      "metadata": {
        "id": "yR9tjHa7mzLn",
        "outputId": "cace7fc3-9d42-44c1-8972-d03849f32e54",
        "colab": {
          "base_uri": "https://localhost:8080/"
        }
      },
      "execution_count": 34,
      "outputs": [
        {
          "output_type": "stream",
          "name": "stdout",
          "text": [
            "Found 2048 images belonging to 2 classes.\n"
          ]
        }
      ]
    },
    {
      "cell_type": "code",
      "source": [
        "model.compile(optimizer=tf.keras.optimizers.RMSprop(lr=0.0001),\n",
        "              loss='binary_crossentropy',\n",
        "              metrics=['accuracy'])"
      ],
      "metadata": {
        "id": "KZy09tW1uC51",
        "outputId": "68326d98-72a6-4ed8-e9f2-d3a3ee11c07c",
        "colab": {
          "base_uri": "https://localhost:8080/"
        }
      },
      "execution_count": 35,
      "outputs": [
        {
          "output_type": "stream",
          "name": "stderr",
          "text": [
            "WARNING:absl:`lr` is deprecated in Keras optimizer, please use `learning_rate` or use the legacy optimizer, e.g.,tf.keras.optimizers.legacy.RMSprop.\n"
          ]
        }
      ]
    },
    {
      "cell_type": "code",
      "source": [
        "# 모델 평가\n",
        "eval_result = model.evaluate(test_generator)\n",
        "print('Test loss:', eval_result[0])\n",
        "print('Test accuracy:', eval_result[1])"
      ],
      "metadata": {
        "id": "30YAnlg9mzSf",
        "outputId": "c613adc6-5ebe-48f1-ecbd-7daff639c316",
        "colab": {
          "base_uri": "https://localhost:8080/"
        }
      },
      "execution_count": 36,
      "outputs": [
        {
          "output_type": "stream",
          "name": "stdout",
          "text": [
            "16/16 [==============================] - 306s 20s/step - loss: 0.1629 - accuracy: 0.9429\n",
            "Test loss: 0.16291305422782898\n",
            "Test accuracy: 0.94287109375\n"
          ]
        }
      ]
    }
  ]
}